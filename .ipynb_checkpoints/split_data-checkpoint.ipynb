{
 "cells": [
  {
   "cell_type": "code",
   "execution_count": 16,
   "id": "f73955f9",
   "metadata": {},
   "outputs": [],
   "source": [
    "import pandas as pd\n",
    "import numpy as np\n",
    "import re"
   ]
  },
  {
   "cell_type": "code",
   "execution_count": 17,
   "id": "4fc40b5d",
   "metadata": {},
   "outputs": [],
   "source": [
    "df = pd.read_csv('articles_data.csv')"
   ]
  },
  {
   "cell_type": "code",
   "execution_count": 18,
   "id": "081e77b9",
   "metadata": {},
   "outputs": [
    {
     "data": {
      "text/plain": [
       "Index(['Unnamed: 0', 'source_id', 'source_name', 'author', 'title',\n",
       "       'description', 'url', 'url_to_image', 'published_at', 'content',\n",
       "       'top_article', 'engagement_reaction_count', 'engagement_comment_count',\n",
       "       'engagement_share_count', 'engagement_comment_plugin_count'],\n",
       "      dtype='object')"
      ]
     },
     "execution_count": 18,
     "metadata": {},
     "output_type": "execute_result"
    }
   ],
   "source": [
    "df.columns"
   ]
  },
  {
   "cell_type": "code",
   "execution_count": 19,
   "id": "db29edd8",
   "metadata": {},
   "outputs": [
    {
     "data": {
      "text/plain": [
       "<AxesSubplot:>"
      ]
     },
     "execution_count": 19,
     "metadata": {},
     "output_type": "execute_result"
    },
    {
     "data": {
      "image/png": "[encoded data removed]",
      "text/plain": [
       "<Figure size 432x288 with 1 Axes>"
      ]
     },
     "metadata": {
      "needs_background": "light"
     },
     "output_type": "display_data"
    }
   ],
   "source": [
    "df[['engagement_share_count','engagement_reaction_count','engagement_comment_count']].plot()"
   ]
  },
  {
   "cell_type": "code",
   "execution_count": 31,
   "id": "ae406949",
   "metadata": {},
   "outputs": [],
   "source": [
    "#function to do rough cleaning of data\n",
    "\n",
    "def treat_extra_char(text):\n",
    "    text = re.sub(r'… \\[\\+\\d+ chars\\]', '', text)\n",
    "    return text\n",
    "\n",
    "def treat_html(text):\n",
    "    text = re.sub(r'(</?\\w{1,5}>)', '', text)\n",
    "    return text\n",
    "\n",
    "def text_preprocessing(text):\n",
    "    \n",
    "    text = \"\".join([c.lower() for c in text]) # lowercase\n",
    "    text = treat_extra_char(text) #delete [+478 chars]\n",
    "    text = treat_html(text) #delete html code like <p> </p> etc.\n",
    "    return text\n",
    "\n",
    "def drop_na(df):\n",
    "    df = df.dropna(axis = 0)\n",
    "    df = df[~(df['content'] == 'nan')]\n",
    "    return df\n",
    "\n",
    "\n",
    "def preprocessing(df):\n",
    "    df = df.drop(df[df.source_name == \"460.0\"].index)\n",
    "    df['description'] = df['description'].astype(str).apply(text_preprocessing)\n",
    "    df['engagement_log'] = np.log(df['engagement_reaction_count'] + df['engagement_comment_count'] + df['engagement_share_count'] + 0.0001)\n",
    "    df['engagement'] = df['engagement_reaction_count'] + df['engagement_comment_count'] + df['engagement_share_count']\n",
    "\n",
    "    df = df[['content', 'engagement_log','engagement', 'url']].copy()\n",
    "    df = drop_na(df)\n",
    "    return df"
   ]
  },
  {
   "cell_type": "code",
   "execution_count": 32,
   "id": "d7416ad1",
   "metadata": {},
   "outputs": [],
   "source": [
    "df_clean = preprocessing(df)"
   ]
  },
  {
   "cell_type": "code",
   "execution_count": 33,
   "id": "1d9bc1e0",
   "metadata": {},
   "outputs": [
    {
     "name": "stdout",
     "output_type": "stream",
     "text": [
      "Original:  (10437, 15)\n",
      "cleaned:  (9028, 4)\n"
     ]
    }
   ],
   "source": [
    "print(\"Original: \", df.shape)\n",
    "print(\"cleaned: \", df_clean.shape)"
   ]
  },
  {
   "cell_type": "code",
   "execution_count": 34,
   "id": "a9b9210a",
   "metadata": {},
   "outputs": [
    {
     "data": {
      "text/html": [
       "<div>\n",
       "<style scoped>\n",
       "    .dataframe tbody tr th:only-of-type {\n",
       "        vertical-align: middle;\n",
       "    }\n",
       "\n",
       "    .dataframe tbody tr th {\n",
       "        vertical-align: top;\n",
       "    }\n",
       "\n",
       "    .dataframe thead th {\n",
       "        text-align: right;\n",
       "    }\n",
       "</style>\n",
       "<table border=\"1\" class=\"dataframe\">\n",
       "  <thead>\n",
       "    <tr style=\"text-align: right;\">\n",
       "      <th></th>\n",
       "      <th>content</th>\n",
       "      <th>engagement_log</th>\n",
       "      <th>engagement</th>\n",
       "      <th>url</th>\n",
       "    </tr>\n",
       "  </thead>\n",
       "  <tbody>\n",
       "    <tr>\n",
       "      <th>0</th>\n",
       "      <td>WASHINGTON (Reuters) - The National Transporta...</td>\n",
       "      <td>7.835184</td>\n",
       "      <td>2528.0</td>\n",
       "      <td>https://www.reuters.com/article/us-tesla-crash...</td>\n",
       "    </tr>\n",
       "    <tr>\n",
       "      <th>1</th>\n",
       "      <td>The States jobless rate fell to 5.2 per cent l...</td>\n",
       "      <td>2.890377</td>\n",
       "      <td>18.0</td>\n",
       "      <td>https://www.irishtimes.com/business/economy/un...</td>\n",
       "    </tr>\n",
       "    <tr>\n",
       "      <th>3</th>\n",
       "      <td>Han Kwang Song, the first North Korean footbal...</td>\n",
       "      <td>1.945924</td>\n",
       "      <td>7.0</td>\n",
       "      <td>https://www.aljazeera.com/news/2019/09/north-k...</td>\n",
       "    </tr>\n",
       "    <tr>\n",
       "      <th>5</th>\n",
       "      <td>\"This Tender Land: a Novel\" (Atria Books), by ...</td>\n",
       "      <td>-9.210340</td>\n",
       "      <td>0.0</td>\n",
       "      <td>https://abcnews.go.com/Entertainment/wireStory...</td>\n",
       "    </tr>\n",
       "    <tr>\n",
       "      <th>6</th>\n",
       "      <td>LONDON (Reuters) - The European Union is waiti...</td>\n",
       "      <td>6.705639</td>\n",
       "      <td>817.0</td>\n",
       "      <td>https://www.reuters.com/article/us-britain-eu-...</td>\n",
       "    </tr>\n",
       "    <tr>\n",
       "      <th>...</th>\n",
       "      <td>...</td>\n",
       "      <td>...</td>\n",
       "      <td>...</td>\n",
       "      <td>...</td>\n",
       "    </tr>\n",
       "    <tr>\n",
       "      <th>10428</th>\n",
       "      <td>Just last week, the Disney Magic arrived to Ne...</td>\n",
       "      <td>6.287859</td>\n",
       "      <td>538.0</td>\n",
       "      <td>https://disneyparks.disney.go.com/blog/2019/10...</td>\n",
       "    </tr>\n",
       "    <tr>\n",
       "      <th>10429</th>\n",
       "      <td>For his latest installation of the SCAR Projec...</td>\n",
       "      <td>-9.210340</td>\n",
       "      <td>0.0</td>\n",
       "      <td>https://www.cbsnews.com/pictures/picturing-mal...</td>\n",
       "    </tr>\n",
       "    <tr>\n",
       "      <th>10431</th>\n",
       "      <td>There are numerous bargains waiting to be pick...</td>\n",
       "      <td>1.098646</td>\n",
       "      <td>3.0</td>\n",
       "      <td>https://www.businessinsider.com/stock-picks-fr...</td>\n",
       "    </tr>\n",
       "    <tr>\n",
       "      <th>10432</th>\n",
       "      <td>Growth in the U.S. economys vast services sect...</td>\n",
       "      <td>-9.210340</td>\n",
       "      <td>0.0</td>\n",
       "      <td>https://abcnews.go.com/Business/wireStory/drop...</td>\n",
       "    </tr>\n",
       "    <tr>\n",
       "      <th>10433</th>\n",
       "      <td>ZURICH/HONG KONG (Reuters) - The announcement ...</td>\n",
       "      <td>6.440947</td>\n",
       "      <td>627.0</td>\n",
       "      <td>https://www.reuters.com/article/us-credit-suis...</td>\n",
       "    </tr>\n",
       "  </tbody>\n",
       "</table>\n",
       "<p>9028 rows × 4 columns</p>\n",
       "</div>"
      ],
      "text/plain": [
       "                                                 content  engagement_log  \\\n",
       "0      WASHINGTON (Reuters) - The National Transporta...        7.835184   \n",
       "1      The States jobless rate fell to 5.2 per cent l...        2.890377   \n",
       "3      Han Kwang Song, the first North Korean footbal...        1.945924   \n",
       "5      \"This Tender Land: a Novel\" (Atria Books), by ...       -9.210340   \n",
       "6      LONDON (Reuters) - The European Union is waiti...        6.705639   \n",
       "...                                                  ...             ...   \n",
       "10428  Just last week, the Disney Magic arrived to Ne...        6.287859   \n",
       "10429  For his latest installation of the SCAR Projec...       -9.210340   \n",
       "10431  There are numerous bargains waiting to be pick...        1.098646   \n",
       "10432  Growth in the U.S. economys vast services sect...       -9.210340   \n",
       "10433  ZURICH/HONG KONG (Reuters) - The announcement ...        6.440947   \n",
       "\n",
       "       engagement                                                url  \n",
       "0          2528.0  https://www.reuters.com/article/us-tesla-crash...  \n",
       "1            18.0  https://www.irishtimes.com/business/economy/un...  \n",
       "3             7.0  https://www.aljazeera.com/news/2019/09/north-k...  \n",
       "5             0.0  https://abcnews.go.com/Entertainment/wireStory...  \n",
       "6           817.0  https://www.reuters.com/article/us-britain-eu-...  \n",
       "...           ...                                                ...  \n",
       "10428       538.0  https://disneyparks.disney.go.com/blog/2019/10...  \n",
       "10429         0.0  https://www.cbsnews.com/pictures/picturing-mal...  \n",
       "10431         3.0  https://www.businessinsider.com/stock-picks-fr...  \n",
       "10432         0.0  https://abcnews.go.com/Business/wireStory/drop...  \n",
       "10433       627.0  https://www.reuters.com/article/us-credit-suis...  \n",
       "\n",
       "[9028 rows x 4 columns]"
      ]
     },
     "execution_count": 34,
     "metadata": {},
     "output_type": "execute_result"
    }
   ],
   "source": [
    "df_clean"
   ]
  },
  {
   "cell_type": "code",
   "execution_count": 37,
   "id": "b6489d12",
   "metadata": {},
   "outputs": [
    {
     "data": {
      "text/plain": [
       "<AxesSubplot:>"
      ]
     },
     "execution_count": 37,
     "metadata": {},
     "output_type": "execute_result"
    },
    {
     "data": {
      "image/png": "[encoded data removed]",
      "text/plain": [
       "<Figure size 432x288 with 1 Axes>"
      ]
     },
     "metadata": {
      "needs_background": "light"
     },
     "output_type": "display_data"
    }
   ],
   "source": [
    "df_clean.engagement.hist()"
   ]
  },
  {
   "cell_type": "code",
   "execution_count": 38,
   "id": "4a64b0bf",
   "metadata": {},
   "outputs": [
    {
     "data": {
      "text/plain": [
       "<AxesSubplot:>"
      ]
     },
     "execution_count": 38,
     "metadata": {},
     "output_type": "execute_result"
    },
    {
     "data": {
      "image/png": "[encoded data removed]",
      "text/plain": [
       "<Figure size 432x288 with 1 Axes>"
      ]
     },
     "metadata": {
      "needs_background": "light"
     },
     "output_type": "display_data"
    }
   ],
   "source": [
    "df_clean.engagement_log.hist()"
   ]
  },
  {
   "cell_type": "code",
   "execution_count": null,
   "id": "0ee58714",
   "metadata": {},
   "outputs": [],
   "source": []
  }
 ],
 "metadata": {
  "kernelspec": {
   "display_name": "Python 3 (ipykernel)",
   "language": "python",
   "name": "python3"
  },
  "language_info": {
   "codemirror_mode": {
    "name": "ipython",
    "version": 3
   },
   "file_extension": ".py",
   "mimetype": "text/x-python",
   "name": "python",
   "nbconvert_exporter": "python",
   "pygments_lexer": "ipython3",
   "version": "3.9.7"
  }
 },
 "nbformat": 4,
 "nbformat_minor": 5
}
