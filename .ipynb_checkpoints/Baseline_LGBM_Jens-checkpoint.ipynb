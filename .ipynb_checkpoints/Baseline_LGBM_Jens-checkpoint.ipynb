{
 "cells": [
  {
   "cell_type": "code",
   "execution_count": 1,
   "id": "9fd434b8",
   "metadata": {},
   "outputs": [],
   "source": [
    "import pandas as pd\n",
    "import numpy as np\n",
    "import pickle\n",
    "import re\n",
    "import string\n",
    "from sklearn.feature_extraction.text import CountVectorizer,TfidfVectorizer\n",
    "from lightgbm import LGBMRegressor,LGBMClassifier\n",
    "from sklearn.ensemble import RandomForestRegressor,RandomForestClassifier\n",
    "from sklearn.metrics import mean_squared_error,f1_score,accuracy_score,confusion_matrix\n",
    "from sklearn.model_selection import cross_val_score\n",
    "import joblib\n",
    "import matplotlib.pyplot as plt\n",
    "import seaborn as sns"
   ]
  },
  {
   "cell_type": "code",
   "execution_count": 2,
   "id": "05f04319",
   "metadata": {},
   "outputs": [],
   "source": [
    "X_train = pickle.load(open(\"X_train.p\", \"rb\"))\n",
    "X_val = pickle.load(open(\"X_val.p\", \"rb\"))\n",
    "X_test =  pickle.load(open(\"X_test.p\", \"rb\"))\n",
    "y_train = pickle.load(open(\"y_train.p\", \"rb\"))\n",
    "y_val = pickle.load(open(\"y_val.p\", \"rb\"))\n",
    "y_test = pickle.load(open(\"y_test.p\", \"rb\"))"
   ]
  },
  {
   "cell_type": "code",
   "execution_count": 3,
   "id": "bb4e6c3c",
   "metadata": {},
   "outputs": [],
   "source": [
    "#X_train = np.concatenate((X_train, X_val))\n",
    "#y_train = np.concatenate((y_train, y_val))"
   ]
  },
  {
   "cell_type": "code",
   "execution_count": 4,
   "id": "d1d2bbd1",
   "metadata": {},
   "outputs": [],
   "source": [
    "X_train = pd.concat([X_train,X_val], axis = 0)\n",
    "y_train = pd.concat([y_train,y_val], axis = 0)"
   ]
  },
  {
   "cell_type": "code",
   "execution_count": 5,
   "id": "a23ba8a4",
   "metadata": {},
   "outputs": [
    {
     "data": {
      "text/plain": [
       "(7722, 8)"
      ]
     },
     "execution_count": 5,
     "metadata": {},
     "output_type": "execute_result"
    }
   ],
   "source": [
    "X_train.shape"
   ]
  },
  {
   "cell_type": "code",
   "execution_count": 6,
   "id": "799dba85",
   "metadata": {},
   "outputs": [
    {
     "data": {
      "text/html": [
       "<div>\n",
       "<style scoped>\n",
       "    .dataframe tbody tr th:only-of-type {\n",
       "        vertical-align: middle;\n",
       "    }\n",
       "\n",
       "    .dataframe tbody tr th {\n",
       "        vertical-align: top;\n",
       "    }\n",
       "\n",
       "    .dataframe thead th {\n",
       "        text-align: right;\n",
       "    }\n",
       "</style>\n",
       "<table border=\"1\" class=\"dataframe\">\n",
       "  <thead>\n",
       "    <tr style=\"text-align: right;\">\n",
       "      <th></th>\n",
       "      <th>source_name</th>\n",
       "      <th>title</th>\n",
       "      <th>cleaned_title</th>\n",
       "      <th>description</th>\n",
       "      <th>cleaned_description</th>\n",
       "      <th>url_to_image</th>\n",
       "      <th>polarityScore</th>\n",
       "      <th>subjectivityScore</th>\n",
       "    </tr>\n",
       "  </thead>\n",
       "  <tbody>\n",
       "    <tr>\n",
       "      <th>0</th>\n",
       "      <td>Newsweek</td>\n",
       "      <td>cnn mistakenly labels alabama as 'mississippi'...</td>\n",
       "      <td>cnn mistakenly label alabama mississippi mocki...</td>\n",
       "      <td>cnn aired a graphic mistakenly labeling alabam...</td>\n",
       "      <td>cnn aired graphic mistakenly labeling alabama ...</td>\n",
       "      <td>https://d.newsweek.com/en/full/1524721/cnn-ala...</td>\n",
       "      <td>0.05</td>\n",
       "      <td>0.55</td>\n",
       "    </tr>\n",
       "    <tr>\n",
       "      <th>1</th>\n",
       "      <td>Reuters</td>\n",
       "      <td>enbridge asked to add potential oilspill analy...</td>\n",
       "      <td>enbridge asked add potential oilspill analysis...</td>\n",
       "      <td>enbridge inc needs to add an analysis of poten...</td>\n",
       "      <td>enbridge need add analysis potential oil spill...</td>\n",
       "      <td>https://s4.reutersmedia.net/resources_v2/image...</td>\n",
       "      <td>0.35</td>\n",
       "      <td>0.95</td>\n",
       "    </tr>\n",
       "    <tr>\n",
       "      <th>2</th>\n",
       "      <td>Reuters</td>\n",
       "      <td>enbridge investors cheer mainline overhaul des...</td>\n",
       "      <td>enbridge investor cheer mainline overhaul desp...</td>\n",
       "      <td>calgary, alberta/winnipeg, manitoba, sept 10 (...</td>\n",
       "      <td>calgary alberta winnipeg manitoba sept reuters...</td>\n",
       "      <td>https://s3.reutersmedia.net/resources/r/?m=02&amp;...</td>\n",
       "      <td>-0.9</td>\n",
       "      <td>1.0</td>\n",
       "    </tr>\n",
       "    <tr>\n",
       "      <th>3</th>\n",
       "      <td>CNN</td>\n",
       "      <td>meghan and harry will fly commercial to africa...</td>\n",
       "      <td>meghan harry fly commercial africa private jet...</td>\n",
       "      <td>prince harry and his wife meghan will travel t...</td>\n",
       "      <td>prince harry wife meghan travel africa baby so...</td>\n",
       "      <td>https://dynaimage.cdn.cnn.com/cnn/w_1200/http%...</td>\n",
       "      <td>0.0</td>\n",
       "      <td>0.1875</td>\n",
       "    </tr>\n",
       "    <tr>\n",
       "      <th>4</th>\n",
       "      <td>Reuters</td>\n",
       "      <td>telecom italia may discuss savings shares' con...</td>\n",
       "      <td>telecom italia discus saving share conversion ...</td>\n",
       "      <td>telecom italia (tim) may resume discussions on...</td>\n",
       "      <td>telecom italia tim resume discussion conversio...</td>\n",
       "      <td>https://s4.reutersmedia.net/resources_v2/image...</td>\n",
       "      <td>-0.25</td>\n",
       "      <td>0.5</td>\n",
       "    </tr>\n",
       "  </tbody>\n",
       "</table>\n",
       "</div>"
      ],
      "text/plain": [
       "  source_name                                              title  \\\n",
       "0    Newsweek  cnn mistakenly labels alabama as 'mississippi'...   \n",
       "1     Reuters  enbridge asked to add potential oilspill analy...   \n",
       "2     Reuters  enbridge investors cheer mainline overhaul des...   \n",
       "3         CNN  meghan and harry will fly commercial to africa...   \n",
       "4     Reuters  telecom italia may discuss savings shares' con...   \n",
       "\n",
       "                                       cleaned_title  \\\n",
       "0  cnn mistakenly label alabama mississippi mocki...   \n",
       "1  enbridge asked add potential oilspill analysis...   \n",
       "2  enbridge investor cheer mainline overhaul desp...   \n",
       "3  meghan harry fly commercial africa private jet...   \n",
       "4  telecom italia discus saving share conversion ...   \n",
       "\n",
       "                                         description  \\\n",
       "0  cnn aired a graphic mistakenly labeling alabam...   \n",
       "1  enbridge inc needs to add an analysis of poten...   \n",
       "2  calgary, alberta/winnipeg, manitoba, sept 10 (...   \n",
       "3  prince harry and his wife meghan will travel t...   \n",
       "4  telecom italia (tim) may resume discussions on...   \n",
       "\n",
       "                                 cleaned_description  \\\n",
       "0  cnn aired graphic mistakenly labeling alabama ...   \n",
       "1  enbridge need add analysis potential oil spill...   \n",
       "2  calgary alberta winnipeg manitoba sept reuters...   \n",
       "3  prince harry wife meghan travel africa baby so...   \n",
       "4  telecom italia tim resume discussion conversio...   \n",
       "\n",
       "                                        url_to_image polarityScore  \\\n",
       "0  https://d.newsweek.com/en/full/1524721/cnn-ala...          0.05   \n",
       "1  https://s4.reutersmedia.net/resources_v2/image...          0.35   \n",
       "2  https://s3.reutersmedia.net/resources/r/?m=02&...          -0.9   \n",
       "3  https://dynaimage.cdn.cnn.com/cnn/w_1200/http%...           0.0   \n",
       "4  https://s4.reutersmedia.net/resources_v2/image...         -0.25   \n",
       "\n",
       "  subjectivityScore  \n",
       "0              0.55  \n",
       "1              0.95  \n",
       "2               1.0  \n",
       "3            0.1875  \n",
       "4               0.5  "
      ]
     },
     "execution_count": 6,
     "metadata": {},
     "output_type": "execute_result"
    }
   ],
   "source": [
    "X_train.head()"
   ]
  },
  {
   "cell_type": "code",
   "execution_count": 7,
   "id": "0ac08f87",
   "metadata": {},
   "outputs": [
    {
     "data": {
      "text/html": [
       "<div>\n",
       "<style scoped>\n",
       "    .dataframe tbody tr th:only-of-type {\n",
       "        vertical-align: middle;\n",
       "    }\n",
       "\n",
       "    .dataframe tbody tr th {\n",
       "        vertical-align: top;\n",
       "    }\n",
       "\n",
       "    .dataframe thead th {\n",
       "        text-align: right;\n",
       "    }\n",
       "</style>\n",
       "<table border=\"1\" class=\"dataframe\">\n",
       "  <thead>\n",
       "    <tr style=\"text-align: right;\">\n",
       "      <th></th>\n",
       "      <th>engagement</th>\n",
       "      <th>engagement_log</th>\n",
       "      <th>engagement_binary</th>\n",
       "    </tr>\n",
       "  </thead>\n",
       "  <tbody>\n",
       "    <tr>\n",
       "      <th>0</th>\n",
       "      <td>8.0</td>\n",
       "      <td>2.079454</td>\n",
       "      <td>0.0</td>\n",
       "    </tr>\n",
       "    <tr>\n",
       "      <th>1</th>\n",
       "      <td>0.0</td>\n",
       "      <td>-9.210340</td>\n",
       "      <td>0.0</td>\n",
       "    </tr>\n",
       "    <tr>\n",
       "      <th>2</th>\n",
       "      <td>1.0</td>\n",
       "      <td>0.000100</td>\n",
       "      <td>0.0</td>\n",
       "    </tr>\n",
       "    <tr>\n",
       "      <th>3</th>\n",
       "      <td>1655.0</td>\n",
       "      <td>7.411556</td>\n",
       "      <td>1.0</td>\n",
       "    </tr>\n",
       "    <tr>\n",
       "      <th>4</th>\n",
       "      <td>0.0</td>\n",
       "      <td>-9.210340</td>\n",
       "      <td>0.0</td>\n",
       "    </tr>\n",
       "  </tbody>\n",
       "</table>\n",
       "</div>"
      ],
      "text/plain": [
       "   engagement  engagement_log  engagement_binary\n",
       "0         8.0        2.079454                0.0\n",
       "1         0.0       -9.210340                0.0\n",
       "2         1.0        0.000100                0.0\n",
       "3      1655.0        7.411556                1.0\n",
       "4         0.0       -9.210340                0.0"
      ]
     },
     "execution_count": 7,
     "metadata": {},
     "output_type": "execute_result"
    }
   ],
   "source": [
    "y_train.head()"
   ]
  },
  {
   "cell_type": "markdown",
   "id": "16284e60",
   "metadata": {},
   "source": [
    "def clean_title(x:str):    \n",
    "    # lowering the text\n",
    "    x=x.lower() \n",
    " \n",
    "    #removing square brackets\n",
    "    x = re.sub('\\[.*?\\]', '', x)\n",
    "    x = re.sub('<.*?>+', '', x) \n",
    "\n",
    "    #removing hyperlink\n",
    "    x = re.sub('https?://\\S+|www\\.\\S+', '', x) \n",
    "\n",
    "    #removing puncuation\n",
    "    x = re.sub('[%s]' % re.escape(string.punctuation), '', x) \n",
    "    x = re.sub('\\n', '', x) \n",
    "\n",
    "    #remove words containing numbers\n",
    "    x = re.sub('\\w*\\d\\w*', '', x) \n",
    "    return x"
   ]
  },
  {
   "cell_type": "markdown",
   "id": "3d7eba4f",
   "metadata": {},
   "source": [
    "X_train2 = []\n",
    "\n",
    "for x in X_train:\n",
    "    X_train2.append(clean_title(x[0]))\n",
    "    \n",
    "X_test2 = []\n",
    "for x in X_test:\n",
    "    X_test2.append(clean_title(x[0]))"
   ]
  },
  {
   "cell_type": "code",
   "execution_count": 8,
   "id": "d88c3e90",
   "metadata": {},
   "outputs": [],
   "source": [
    "tfidf_vec = TfidfVectorizer(ngram_range=(1,2),\n",
    "                            dtype=np.float32, \n",
    "                            sublinear_tf=True, \n",
    "                            use_idf=True, \n",
    "                            smooth_idf=True)\n",
    "train_tfidf = tfidf_vec.fit_transform(X_train['cleaned_description'])\n",
    "\n",
    "test_tfidf = tfidf_vec.transform(X_test['cleaned_description'])"
   ]
  },
  {
   "cell_type": "code",
   "execution_count": 9,
   "id": "a5aceeb9",
   "metadata": {},
   "outputs": [
    {
     "data": {
      "text/plain": [
       "<1931x98088 sparse matrix of type '<class 'numpy.float32'>'\n",
       "\twith 35609 stored elements in Compressed Sparse Row format>"
      ]
     },
     "execution_count": 9,
     "metadata": {},
     "output_type": "execute_result"
    }
   ],
   "source": [
    "test_tfidf"
   ]
  },
  {
   "cell_type": "code",
   "execution_count": 10,
   "id": "052a1cd9",
   "metadata": {},
   "outputs": [
    {
     "data": {
      "text/plain": [
       "SVC(gamma='auto')"
      ]
     },
     "execution_count": 10,
     "metadata": {},
     "output_type": "execute_result"
    }
   ],
   "source": [
    "from sklearn.svm import SVC\n",
    "clf = SVC(gamma='auto')\n",
    "clf.fit(train_tfidf, y_train['engagement_binary'])"
   ]
  },
  {
   "cell_type": "code",
   "execution_count": 11,
   "id": "655b244a",
   "metadata": {},
   "outputs": [],
   "source": [
    "y_pred = clf.predict(test_tfidf)"
   ]
  },
  {
   "cell_type": "code",
   "execution_count": 12,
   "id": "7e03c986",
   "metadata": {},
   "outputs": [
    {
     "name": "stdout",
     "output_type": "stream",
     "text": [
      "Accuracy: 0.5453133091662351\n"
     ]
    }
   ],
   "source": [
    "from sklearn import metrics\n",
    "\n",
    "# Model Accuracy: how often is the classifier correct?\n",
    "print(\"Accuracy:\",metrics.accuracy_score(y_test['engagement_binary'], y_pred))"
   ]
  },
  {
   "cell_type": "code",
   "execution_count": 13,
   "id": "0e228e9e",
   "metadata": {},
   "outputs": [
    {
     "data": {
      "text/plain": [
       "0.5453133091662351"
      ]
     },
     "execution_count": 13,
     "metadata": {},
     "output_type": "execute_result"
    }
   ],
   "source": [
    "sum(y_test['engagement_binary'])/len(y_test) #not better than stupid"
   ]
  },
  {
   "cell_type": "code",
   "execution_count": 14,
   "id": "91ee83a4",
   "metadata": {},
   "outputs": [],
   "source": [
    "modelclas = LGBMClassifier(verbose=-1,\n",
    "                          learning_rate=0.1,#0.5,\n",
    "                          max_depth=20,#20,\n",
    "                          num_leaves=50,#50, \n",
    "                          n_estimators=150)#120,\n",
    "                          #max_bin=2000,)"
   ]
  },
  {
   "cell_type": "code",
   "execution_count": null,
   "id": "39576de8",
   "metadata": {},
   "outputs": [],
   "source": [
    "scores = cross_val_score(\n",
    "                 modelclas, train_tfidf, y_train['engagement_binary'], cv=5, scoring='f1_macro')\n",
    "print(\"Cross Validation F1 Scores : \",scores)"
   ]
  },
  {
   "cell_type": "code",
   "execution_count": 1,
   "id": "a87cd3e8",
   "metadata": {},
   "outputs": [
    {
     "ename": "NameError",
     "evalue": "name 'modelclas' is not defined",
     "output_type": "error",
     "traceback": [
      "\u001b[0;31m---------------------------------------------------------------------------\u001b[0m",
      "\u001b[0;31mNameError\u001b[0m                                 Traceback (most recent call last)",
      "Input \u001b[0;32mIn [1]\u001b[0m, in \u001b[0;36m<cell line: 1>\u001b[0;34m()\u001b[0m\n\u001b[0;32m----> 1\u001b[0m \u001b[43mmodelclas\u001b[49m\u001b[38;5;241m.\u001b[39mfit(train_tfidf,y_train)\n\u001b[1;32m      3\u001b[0m predclas \u001b[38;5;241m=\u001b[39m modelclas\u001b[38;5;241m.\u001b[39mpredict(test_tfidf)\n\u001b[1;32m      4\u001b[0m \u001b[38;5;28mprint\u001b[39m(\u001b[38;5;124m\"\u001b[39m\u001b[38;5;124mf1 score : \u001b[39m\u001b[38;5;124m\"\u001b[39m,\u001b[38;5;28mround\u001b[39m(f1_score(predclas,y_test),\u001b[38;5;241m2\u001b[39m))\n",
      "\u001b[0;31mNameError\u001b[0m: name 'modelclas' is not defined"
     ]
    }
   ],
   "source": [
    "modelclas.fit(train_tfidf,y_train)\n",
    "\n",
    "predclas = modelclas.predict(test_tfidf)\n",
    "print(\"f1 score : \",round(f1_score(predclas,y_test),2))\n",
    "print(\"accuracy score : \",round(accuracy_score(predclas,y_test),2))"
   ]
  },
  {
   "cell_type": "code",
   "execution_count": null,
   "id": "6b97d6ee",
   "metadata": {},
   "outputs": [],
   "source": [
    "plt.figure(figsize = (10,10))\n",
    "cm = confusion_matrix(predclas, y_test)\n",
    "sns.heatmap(cm,cmap= \"Blues\",\n",
    "            linecolor = 'black' ,\n",
    "            linewidth = 1 ,\n",
    "            annot = True,\n",
    "            fmt='' ,\n",
    "            xticklabels = ['Popular','Not_Popular'] ,\n",
    "            yticklabels = ['Popular','Not_Popular'])\n",
    "plt.xlabel(\"Predicted\")\n",
    "plt.ylabel(\"Actual\");"
   ]
  },
  {
   "cell_type": "code",
   "execution_count": 9,
   "id": "1bcbea42",
   "metadata": {},
   "outputs": [],
   "source": [
    "#regressor\n",
    "model1 = LGBMRegressor(verbose=-1,\n",
    "                       learning_rate=0.01,\n",
    "                       max_depth=20,\n",
    "                       num_leaves=50,\n",
    "                       n_estimators=150)"
   ]
  },
  {
   "cell_type": "code",
   "execution_count": null,
   "id": "486991f4",
   "metadata": {},
   "outputs": [],
   "source": []
  },
  {
   "cell_type": "code",
   "execution_count": null,
   "id": "2d0f2f6b",
   "metadata": {},
   "outputs": [],
   "source": []
  },
  {
   "cell_type": "code",
   "execution_count": null,
   "id": "6e64969b",
   "metadata": {},
   "outputs": [],
   "source": []
  },
  {
   "cell_type": "code",
   "execution_count": 10,
   "id": "a69a2786",
   "metadata": {},
   "outputs": [
    {
     "ename": "XGBoostError",
     "evalue": "\nXGBoost Library (libxgboost.dylib) could not be loaded.\nLikely causes:\n  * OpenMP runtime is not installed\n    - vcomp140.dll or libgomp-1.dll for Windows\n    - libomp.dylib for Mac OSX\n    - libgomp.so for Linux and other UNIX-like OSes\n    Mac OSX users: Run `brew install libomp` to install OpenMP runtime.\n\n  * You are running 32-bit Python on a 64-bit OS\n\nError message(s): ['dlopen(/Users/jenspt/opt/anaconda3/lib/python3.9/site-packages/xgboost/lib/libxgboost.dylib, 6): Library not loaded: /usr/local/opt/libomp/lib/libomp.dylib\\n  Referenced from: /Users/jenspt/opt/anaconda3/lib/python3.9/site-packages/xgboost/lib/libxgboost.dylib\\n  Reason: image not found']\n",
     "output_type": "error",
     "traceback": [
      "\u001b[0;31m---------------------------------------------------------------------------\u001b[0m",
      "\u001b[0;31mXGBoostError\u001b[0m                              Traceback (most recent call last)",
      "\u001b[0;32m/var/folders/bv/xby84vl924s_z97thsyrkm8h0000gn/T/ipykernel_39757/1054535469.py\u001b[0m in \u001b[0;36m<module>\u001b[0;34m\u001b[0m\n\u001b[0;32m----> 1\u001b[0;31m \u001b[0;32mfrom\u001b[0m \u001b[0mxgboost\u001b[0m \u001b[0;32mimport\u001b[0m \u001b[0mXGBClassifier\u001b[0m\u001b[0;34m\u001b[0m\u001b[0;34m\u001b[0m\u001b[0m\n\u001b[0m\u001b[1;32m      2\u001b[0m \u001b[0;32mfrom\u001b[0m \u001b[0msklearn\u001b[0m\u001b[0;34m.\u001b[0m\u001b[0mmodel_selection\u001b[0m \u001b[0;32mimport\u001b[0m \u001b[0mRandomizedSearchCV\u001b[0m\u001b[0;34m\u001b[0m\u001b[0;34m\u001b[0m\u001b[0m\n\u001b[1;32m      3\u001b[0m \u001b[0;32mfrom\u001b[0m \u001b[0mnumpy\u001b[0m\u001b[0;34m.\u001b[0m\u001b[0mrandom\u001b[0m \u001b[0;32mimport\u001b[0m \u001b[0mrandint\u001b[0m\u001b[0;34m,\u001b[0m \u001b[0muniform\u001b[0m\u001b[0;34m\u001b[0m\u001b[0;34m\u001b[0m\u001b[0m\n\u001b[1;32m      4\u001b[0m \u001b[0;34m\u001b[0m\u001b[0m\n\u001b[1;32m      5\u001b[0m param_distributions = {\n",
      "\u001b[0;32m~/opt/anaconda3/lib/python3.9/site-packages/xgboost/__init__.py\u001b[0m in \u001b[0;36m<module>\u001b[0;34m\u001b[0m\n\u001b[1;32m      7\u001b[0m \u001b[0;32mimport\u001b[0m \u001b[0mos\u001b[0m\u001b[0;34m\u001b[0m\u001b[0;34m\u001b[0m\u001b[0m\n\u001b[1;32m      8\u001b[0m \u001b[0;34m\u001b[0m\u001b[0m\n\u001b[0;32m----> 9\u001b[0;31m \u001b[0;32mfrom\u001b[0m \u001b[0;34m.\u001b[0m\u001b[0mcore\u001b[0m \u001b[0;32mimport\u001b[0m \u001b[0mDMatrix\u001b[0m\u001b[0;34m,\u001b[0m \u001b[0mDeviceQuantileDMatrix\u001b[0m\u001b[0;34m,\u001b[0m \u001b[0mBooster\u001b[0m\u001b[0;34m,\u001b[0m \u001b[0mDataIter\u001b[0m\u001b[0;34m\u001b[0m\u001b[0;34m\u001b[0m\u001b[0m\n\u001b[0m\u001b[1;32m     10\u001b[0m \u001b[0;32mfrom\u001b[0m \u001b[0;34m.\u001b[0m\u001b[0mtraining\u001b[0m \u001b[0;32mimport\u001b[0m \u001b[0mtrain\u001b[0m\u001b[0;34m,\u001b[0m \u001b[0mcv\u001b[0m\u001b[0;34m\u001b[0m\u001b[0;34m\u001b[0m\u001b[0m\n\u001b[1;32m     11\u001b[0m \u001b[0;32mfrom\u001b[0m \u001b[0;34m.\u001b[0m \u001b[0;32mimport\u001b[0m \u001b[0mrabit\u001b[0m  \u001b[0;31m# noqa\u001b[0m\u001b[0;34m\u001b[0m\u001b[0;34m\u001b[0m\u001b[0m\n",
      "\u001b[0;32m~/opt/anaconda3/lib/python3.9/site-packages/xgboost/core.py\u001b[0m in \u001b[0;36m<module>\u001b[0;34m\u001b[0m\n\u001b[1;32m    201\u001b[0m \u001b[0;34m\u001b[0m\u001b[0m\n\u001b[1;32m    202\u001b[0m \u001b[0;31m# load the XGBoost library globally\u001b[0m\u001b[0;34m\u001b[0m\u001b[0;34m\u001b[0m\u001b[0m\n\u001b[0;32m--> 203\u001b[0;31m \u001b[0m_LIB\u001b[0m \u001b[0;34m=\u001b[0m \u001b[0m_load_lib\u001b[0m\u001b[0;34m(\u001b[0m\u001b[0;34m)\u001b[0m\u001b[0;34m\u001b[0m\u001b[0;34m\u001b[0m\u001b[0m\n\u001b[0m\u001b[1;32m    204\u001b[0m \u001b[0;34m\u001b[0m\u001b[0m\n\u001b[1;32m    205\u001b[0m \u001b[0;34m\u001b[0m\u001b[0m\n",
      "\u001b[0;32m~/opt/anaconda3/lib/python3.9/site-packages/xgboost/core.py\u001b[0m in \u001b[0;36m_load_lib\u001b[0;34m()\u001b[0m\n\u001b[1;32m    179\u001b[0m     \u001b[0;32mif\u001b[0m \u001b[0;32mnot\u001b[0m \u001b[0mlib_success\u001b[0m\u001b[0;34m:\u001b[0m\u001b[0;34m\u001b[0m\u001b[0;34m\u001b[0m\u001b[0m\n\u001b[1;32m    180\u001b[0m         \u001b[0mlibname\u001b[0m \u001b[0;34m=\u001b[0m \u001b[0mos\u001b[0m\u001b[0;34m.\u001b[0m\u001b[0mpath\u001b[0m\u001b[0;34m.\u001b[0m\u001b[0mbasename\u001b[0m\u001b[0;34m(\u001b[0m\u001b[0mlib_paths\u001b[0m\u001b[0;34m[\u001b[0m\u001b[0;36m0\u001b[0m\u001b[0;34m]\u001b[0m\u001b[0;34m)\u001b[0m\u001b[0;34m\u001b[0m\u001b[0;34m\u001b[0m\u001b[0m\n\u001b[0;32m--> 181\u001b[0;31m         raise XGBoostError(\n\u001b[0m\u001b[1;32m    182\u001b[0m             f\"\"\"\n\u001b[1;32m    183\u001b[0m \u001b[0mXGBoost\u001b[0m \u001b[0mLibrary\u001b[0m \u001b[0;34m(\u001b[0m\u001b[0;34m{\u001b[0m\u001b[0mlibname\u001b[0m\u001b[0;34m}\u001b[0m\u001b[0;34m)\u001b[0m \u001b[0mcould\u001b[0m \u001b[0;32mnot\u001b[0m \u001b[0mbe\u001b[0m \u001b[0mloaded\u001b[0m\u001b[0;34m.\u001b[0m\u001b[0;34m\u001b[0m\u001b[0;34m\u001b[0m\u001b[0m\n",
      "\u001b[0;31mXGBoostError\u001b[0m: \nXGBoost Library (libxgboost.dylib) could not be loaded.\nLikely causes:\n  * OpenMP runtime is not installed\n    - vcomp140.dll or libgomp-1.dll for Windows\n    - libomp.dylib for Mac OSX\n    - libgomp.so for Linux and other UNIX-like OSes\n    Mac OSX users: Run `brew install libomp` to install OpenMP runtime.\n\n  * You are running 32-bit Python on a 64-bit OS\n\nError message(s): ['dlopen(/Users/jenspt/opt/anaconda3/lib/python3.9/site-packages/xgboost/lib/libxgboost.dylib, 6): Library not loaded: /usr/local/opt/libomp/lib/libomp.dylib\\n  Referenced from: /Users/jenspt/opt/anaconda3/lib/python3.9/site-packages/xgboost/lib/libxgboost.dylib\\n  Reason: image not found']\n"
     ]
    }
   ],
   "source": [
    "from xgboost import XGBClassifier\n",
    "from sklearn.model_selection import RandomizedSearchCV\n",
    "from numpy.random import randint, uniform\n",
    "\n",
    "param_distributions = {\n",
    "    'min_child_weight': randint(1, 10),\n",
    "    'colsample_bytree': uniform(0.1, 0.9),\n",
    "    'reg_aplha': uniform(0.001, 100),\n",
    "    'subsample': uniform(0.1, 0.9),\n",
    "    'max_depth': randint(1, 10),\n",
    "    'gamma': uniform(0.5, 5),\n",
    "    'eta': uniform(0.01, 0.5)\n",
    "}\n",
    "grid = RandomizedSearchCV(\n",
    "    estimator=XGBClassifier(),\n",
    "    param_distributions=param_distributions,\n",
    "    n_iter=10, cv=5, iid=True,\n",
    "    return_train_score=True\n",
    ")\n",
    "model_clf = grid.fit(train_tfidf, y_train).best_estimator_"
   ]
  },
  {
   "cell_type": "code",
   "execution_count": null,
   "id": "2ffbb61b",
   "metadata": {},
   "outputs": [],
   "source": []
  }
 ],
 "metadata": {
  "@webio": {
   "lastCommId": null,
   "lastKernelId": null
  },
  "kernelspec": {
   "display_name": "Python 3 (ipykernel)",
   "language": "python",
   "name": "python3"
  },
  "language_info": {
   "codemirror_mode": {
    "name": "ipython",
    "version": 3
   },
   "file_extension": ".py",
   "mimetype": "text/x-python",
   "name": "python",
   "nbconvert_exporter": "python",
   "pygments_lexer": "ipython3",
   "version": "3.8.8"
  }
 },
 "nbformat": 4,
 "nbformat_minor": 5
}
