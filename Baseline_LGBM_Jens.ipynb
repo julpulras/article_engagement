{
 "cells": [
  {
   "cell_type": "code",
   "execution_count": 1,
   "id": "9fd434b8",
   "metadata": {},
   "outputs": [],
   "source": [
    "import pandas as pd\n",
    "import numpy as np\n",
    "import pickle\n",
    "import re\n",
    "import string\n",
    "from sklearn.feature_extraction.text import CountVectorizer,TfidfVectorizer\n",
    "from lightgbm import LGBMRegressor,LGBMClassifier\n",
    "from sklearn.ensemble import RandomForestRegressor,RandomForestClassifier\n",
    "from sklearn.metrics import mean_squared_error,f1_score,accuracy_score,confusion_matrix\n",
    "from sklearn.model_selection import cross_val_score\n",
    "import joblib\n",
    "import matplotlib.pyplot as plt\n",
    "import seaborn as sns"
   ]
  },
  {
   "cell_type": "code",
   "execution_count": 2,
   "id": "05f04319",
   "metadata": {},
   "outputs": [],
   "source": [
    "X_train = pickle.load(open(\"X_train.p\", \"rb\"))\n",
    "X_val = pickle.load(open(\"X_val.p\", \"rb\"))\n",
    "X_test =  pickle.load(open(\"X_test.p\", \"rb\"))\n",
    "y_train = pickle.load(open(\"y_train.p\", \"rb\"))\n",
    "y_val = pickle.load(open(\"y_val.p\", \"rb\"))\n",
    "y_test = pickle.load(open(\"y_test.p\", \"rb\"))"
   ]
  },
  {
   "cell_type": "code",
   "execution_count": 3,
   "id": "bb4e6c3c",
   "metadata": {},
   "outputs": [],
   "source": [
    "X_train = np.concatenate((X_train, X_val))\n",
    "y_train = np.concatenate((y_train, y_val))"
   ]
  },
  {
   "cell_type": "code",
   "execution_count": 4,
   "id": "06360c3a",
   "metadata": {},
   "outputs": [
    {
     "data": {
      "text/plain": [
       "(7722, 2)"
      ]
     },
     "execution_count": 4,
     "metadata": {},
     "output_type": "execute_result"
    }
   ],
   "source": [
    "X_train.shape"
   ]
  },
  {
   "cell_type": "code",
   "execution_count": 5,
   "id": "43fe6b6f",
   "metadata": {},
   "outputs": [],
   "source": [
    "def clean_title(x:str):    \n",
    "    # lowering the text\n",
    "    x=x.lower() \n",
    " \n",
    "    #removing square brackets\n",
    "    x = re.sub('\\[.*?\\]', '', x)\n",
    "    x = re.sub('<.*?>+', '', x) \n",
    "\n",
    "    #removing hyperlink\n",
    "    x = re.sub('https?://\\S+|www\\.\\S+', '', x) \n",
    "\n",
    "    #removing puncuation\n",
    "    x = re.sub('[%s]' % re.escape(string.punctuation), '', x) \n",
    "    x = re.sub('\\n', '', x) \n",
    "\n",
    "    #remove words containing numbers\n",
    "    x = re.sub('\\w*\\d\\w*', '', x) \n",
    "    return x"
   ]
  },
  {
   "cell_type": "code",
   "execution_count": 6,
   "id": "5405bbb3",
   "metadata": {},
   "outputs": [],
   "source": [
    "X_train2 = []\n",
    "\n",
    "for x in X_train:\n",
    "    X_train2.append(clean_title(x[0]))\n",
    "    \n",
    "X_test2 = []\n",
    "for x in X_test:\n",
    "    X_test2.append(clean_title(x[0]))"
   ]
  },
  {
   "cell_type": "code",
   "execution_count": 7,
   "id": "d88c3e90",
   "metadata": {},
   "outputs": [],
   "source": [
    "tfidf_vec = TfidfVectorizer(ngram_range=(1,2),\n",
    "                            dtype=np.float32, \n",
    "                            sublinear_tf=True, \n",
    "                            use_idf=True, \n",
    "                            smooth_idf=True)\n",
    "train_tfidf = tfidf_vec.fit_transform(X_train2)\n",
    "\n",
    "test_tfidf = tfidf_vec.transform(X_test2)"
   ]
  },
  {
   "cell_type": "code",
   "execution_count": 8,
   "id": "a5aceeb9",
   "metadata": {},
   "outputs": [
    {
     "data": {
      "text/plain": [
       "<1931x122760 sparse matrix of type '<class 'numpy.float32'>'\n",
       "\twith 65129 stored elements in Compressed Sparse Row format>"
      ]
     },
     "execution_count": 8,
     "metadata": {},
     "output_type": "execute_result"
    }
   ],
   "source": [
    "test_tfidf\n"
   ]
  },
  {
   "cell_type": "code",
   "execution_count": 9,
   "id": "052a1cd9",
   "metadata": {},
   "outputs": [
    {
     "data": {
      "text/plain": [
       "SVC(gamma='auto')"
      ]
     },
     "execution_count": 9,
     "metadata": {},
     "output_type": "execute_result"
    }
   ],
   "source": [
    "from sklearn.svm import SVC\n",
    "clf = SVC(gamma='auto')\n",
    "clf.fit(train_tfidf, y_train)"
   ]
  },
  {
   "cell_type": "code",
   "execution_count": 10,
   "id": "655b244a",
   "metadata": {},
   "outputs": [],
   "source": [
    "y_pred = clf.predict(test_tfidf)"
   ]
  },
  {
   "cell_type": "code",
   "execution_count": 11,
   "id": "7e03c986",
   "metadata": {},
   "outputs": [
    {
     "name": "stdout",
     "output_type": "stream",
     "text": [
      "Accuracy: 0.5453133091662351\n"
     ]
    }
   ],
   "source": [
    "from sklearn import metrics\n",
    "\n",
    "# Model Accuracy: how often is the classifier correct?\n",
    "print(\"Accuracy:\",metrics.accuracy_score(y_test, y_pred))"
   ]
  },
  {
   "cell_type": "code",
   "execution_count": 12,
   "id": "0e228e9e",
   "metadata": {},
   "outputs": [
    {
     "data": {
      "text/plain": [
       "0.5453133091662351"
      ]
     },
     "execution_count": 12,
     "metadata": {},
     "output_type": "execute_result"
    }
   ],
   "source": [
    "sum(y_test)/len(y_test) #not better than stupid"
   ]
  },
  {
   "cell_type": "code",
   "execution_count": 40,
   "id": "91ee83a4",
   "metadata": {},
   "outputs": [],
   "source": [
    "modelclas = LGBMClassifier(verbose=-1,\n",
    "                          learning_rate=0.1,#0.5,\n",
    "                          max_depth=20,#20,\n",
    "                          num_leaves=50,#50, \n",
    "                          n_estimators=150,)#120,\n",
    "                          #max_bin=2000,)"
   ]
  },
  {
   "cell_type": "code",
   "execution_count": 41,
   "id": "39576de8",
   "metadata": {},
   "outputs": [
    {
     "name": "stdout",
     "output_type": "stream",
     "text": [
      "Cross Validation F1 Scores :  [0.59008974 0.59006567 0.58026655 0.61540133 0.59911634]\n"
     ]
    }
   ],
   "source": [
    "scores = cross_val_score(\n",
    "                 modelclas, train_tfidf, y_train, cv=5, scoring='f1_macro')\n",
    "print(\"Cross Validation F1 Scores : \",scores)"
   ]
  },
  {
   "cell_type": "code",
   "execution_count": 43,
   "id": "a87cd3e8",
   "metadata": {},
   "outputs": [
    {
     "name": "stdout",
     "output_type": "stream",
     "text": [
      "f1 score :  0.66\n",
      "accuracy score :  0.6\n"
     ]
    }
   ],
   "source": [
    "modelclas.fit(train_tfidf,y_train)\n",
    "\n",
    "predclas = modelclas.predict(test_tfidf)\n",
    "print(\"f1 score : \",round(f1_score(predclas,y_test),2))\n",
    "print(\"accuracy score : \",round(accuracy_score(predclas,y_test),2))"
   ]
  },
  {
   "cell_type": "code",
   "execution_count": 55,
   "id": "6b97d6ee",
   "metadata": {},
   "outputs": [
    {
     "data": {
      "image/png": "[encoded data removed]",
      "text/plain": [
       "<Figure size 720x720 with 2 Axes>"
      ]
     },
     "metadata": {
      "needs_background": "light"
     },
     "output_type": "display_data"
    }
   ],
   "source": [
    "plt.figure(figsize = (10,10))\n",
    "cm = confusion_matrix(predclas, y_test)\n",
    "sns.heatmap(cm,cmap= \"Blues\",\n",
    "            linecolor = 'black' ,\n",
    "            linewidth = 1 ,\n",
    "            annot = True,\n",
    "            fmt='' ,\n",
    "            xticklabels = ['Popular','Not_Popular'] ,\n",
    "            yticklabels = ['Popular','Not_Popular'])\n",
    "plt.xlabel(\"Predicted\")\n",
    "plt.ylabel(\"Actual\");"
   ]
  },
  {
   "cell_type": "code",
   "execution_count": 9,
   "id": "1bcbea42",
   "metadata": {},
   "outputs": [],
   "source": [
    "#Classifier\n",
    "model1 = LGBMRegressor(verbose=-1,\n",
    "                       learning_rate=0.01,\n",
    "                       max_depth=20,\n",
    "                       num_leaves=50,\n",
    "                       n_estimators=150)"
   ]
  },
  {
   "cell_type": "code",
   "execution_count": null,
   "id": "486991f4",
   "metadata": {},
   "outputs": [],
   "source": []
  },
  {
   "cell_type": "code",
   "execution_count": null,
   "id": "2d0f2f6b",
   "metadata": {},
   "outputs": [],
   "source": []
  },
  {
   "cell_type": "code",
   "execution_count": null,
   "id": "6e64969b",
   "metadata": {},
   "outputs": [],
   "source": []
  },
  {
   "cell_type": "code",
   "execution_count": 10,
   "id": "a69a2786",
   "metadata": {},
   "outputs": [
    {
     "ename": "XGBoostError",
     "evalue": "\nXGBoost Library (libxgboost.dylib) could not be loaded.\nLikely causes:\n  * OpenMP runtime is not installed\n    - vcomp140.dll or libgomp-1.dll for Windows\n    - libomp.dylib for Mac OSX\n    - libgomp.so for Linux and other UNIX-like OSes\n    Mac OSX users: Run `brew install libomp` to install OpenMP runtime.\n\n  * You are running 32-bit Python on a 64-bit OS\n\nError message(s): ['dlopen(/Users/jenspt/opt/anaconda3/lib/python3.9/site-packages/xgboost/lib/libxgboost.dylib, 6): Library not loaded: /usr/local/opt/libomp/lib/libomp.dylib\\n  Referenced from: /Users/jenspt/opt/anaconda3/lib/python3.9/site-packages/xgboost/lib/libxgboost.dylib\\n  Reason: image not found']\n",
     "output_type": "error",
     "traceback": [
      "\u001b[0;31m---------------------------------------------------------------------------\u001b[0m",
      "\u001b[0;31mXGBoostError\u001b[0m                              Traceback (most recent call last)",
      "\u001b[0;32m/var/folders/bv/xby84vl924s_z97thsyrkm8h0000gn/T/ipykernel_39757/1054535469.py\u001b[0m in \u001b[0;36m<module>\u001b[0;34m\u001b[0m\n\u001b[0;32m----> 1\u001b[0;31m \u001b[0;32mfrom\u001b[0m \u001b[0mxgboost\u001b[0m \u001b[0;32mimport\u001b[0m \u001b[0mXGBClassifier\u001b[0m\u001b[0;34m\u001b[0m\u001b[0;34m\u001b[0m\u001b[0m\n\u001b[0m\u001b[1;32m      2\u001b[0m \u001b[0;32mfrom\u001b[0m \u001b[0msklearn\u001b[0m\u001b[0;34m.\u001b[0m\u001b[0mmodel_selection\u001b[0m \u001b[0;32mimport\u001b[0m \u001b[0mRandomizedSearchCV\u001b[0m\u001b[0;34m\u001b[0m\u001b[0;34m\u001b[0m\u001b[0m\n\u001b[1;32m      3\u001b[0m \u001b[0;32mfrom\u001b[0m \u001b[0mnumpy\u001b[0m\u001b[0;34m.\u001b[0m\u001b[0mrandom\u001b[0m \u001b[0;32mimport\u001b[0m \u001b[0mrandint\u001b[0m\u001b[0;34m,\u001b[0m \u001b[0muniform\u001b[0m\u001b[0;34m\u001b[0m\u001b[0;34m\u001b[0m\u001b[0m\n\u001b[1;32m      4\u001b[0m \u001b[0;34m\u001b[0m\u001b[0m\n\u001b[1;32m      5\u001b[0m param_distributions = {\n",
      "\u001b[0;32m~/opt/anaconda3/lib/python3.9/site-packages/xgboost/__init__.py\u001b[0m in \u001b[0;36m<module>\u001b[0;34m\u001b[0m\n\u001b[1;32m      7\u001b[0m \u001b[0;32mimport\u001b[0m \u001b[0mos\u001b[0m\u001b[0;34m\u001b[0m\u001b[0;34m\u001b[0m\u001b[0m\n\u001b[1;32m      8\u001b[0m \u001b[0;34m\u001b[0m\u001b[0m\n\u001b[0;32m----> 9\u001b[0;31m \u001b[0;32mfrom\u001b[0m \u001b[0;34m.\u001b[0m\u001b[0mcore\u001b[0m \u001b[0;32mimport\u001b[0m \u001b[0mDMatrix\u001b[0m\u001b[0;34m,\u001b[0m \u001b[0mDeviceQuantileDMatrix\u001b[0m\u001b[0;34m,\u001b[0m \u001b[0mBooster\u001b[0m\u001b[0;34m,\u001b[0m \u001b[0mDataIter\u001b[0m\u001b[0;34m\u001b[0m\u001b[0;34m\u001b[0m\u001b[0m\n\u001b[0m\u001b[1;32m     10\u001b[0m \u001b[0;32mfrom\u001b[0m \u001b[0;34m.\u001b[0m\u001b[0mtraining\u001b[0m \u001b[0;32mimport\u001b[0m \u001b[0mtrain\u001b[0m\u001b[0;34m,\u001b[0m \u001b[0mcv\u001b[0m\u001b[0;34m\u001b[0m\u001b[0;34m\u001b[0m\u001b[0m\n\u001b[1;32m     11\u001b[0m \u001b[0;32mfrom\u001b[0m \u001b[0;34m.\u001b[0m \u001b[0;32mimport\u001b[0m \u001b[0mrabit\u001b[0m  \u001b[0;31m# noqa\u001b[0m\u001b[0;34m\u001b[0m\u001b[0;34m\u001b[0m\u001b[0m\n",
      "\u001b[0;32m~/opt/anaconda3/lib/python3.9/site-packages/xgboost/core.py\u001b[0m in \u001b[0;36m<module>\u001b[0;34m\u001b[0m\n\u001b[1;32m    201\u001b[0m \u001b[0;34m\u001b[0m\u001b[0m\n\u001b[1;32m    202\u001b[0m \u001b[0;31m# load the XGBoost library globally\u001b[0m\u001b[0;34m\u001b[0m\u001b[0;34m\u001b[0m\u001b[0m\n\u001b[0;32m--> 203\u001b[0;31m \u001b[0m_LIB\u001b[0m \u001b[0;34m=\u001b[0m \u001b[0m_load_lib\u001b[0m\u001b[0;34m(\u001b[0m\u001b[0;34m)\u001b[0m\u001b[0;34m\u001b[0m\u001b[0;34m\u001b[0m\u001b[0m\n\u001b[0m\u001b[1;32m    204\u001b[0m \u001b[0;34m\u001b[0m\u001b[0m\n\u001b[1;32m    205\u001b[0m \u001b[0;34m\u001b[0m\u001b[0m\n",
      "\u001b[0;32m~/opt/anaconda3/lib/python3.9/site-packages/xgboost/core.py\u001b[0m in \u001b[0;36m_load_lib\u001b[0;34m()\u001b[0m\n\u001b[1;32m    179\u001b[0m     \u001b[0;32mif\u001b[0m \u001b[0;32mnot\u001b[0m \u001b[0mlib_success\u001b[0m\u001b[0;34m:\u001b[0m\u001b[0;34m\u001b[0m\u001b[0;34m\u001b[0m\u001b[0m\n\u001b[1;32m    180\u001b[0m         \u001b[0mlibname\u001b[0m \u001b[0;34m=\u001b[0m \u001b[0mos\u001b[0m\u001b[0;34m.\u001b[0m\u001b[0mpath\u001b[0m\u001b[0;34m.\u001b[0m\u001b[0mbasename\u001b[0m\u001b[0;34m(\u001b[0m\u001b[0mlib_paths\u001b[0m\u001b[0;34m[\u001b[0m\u001b[0;36m0\u001b[0m\u001b[0;34m]\u001b[0m\u001b[0;34m)\u001b[0m\u001b[0;34m\u001b[0m\u001b[0;34m\u001b[0m\u001b[0m\n\u001b[0;32m--> 181\u001b[0;31m         raise XGBoostError(\n\u001b[0m\u001b[1;32m    182\u001b[0m             f\"\"\"\n\u001b[1;32m    183\u001b[0m \u001b[0mXGBoost\u001b[0m \u001b[0mLibrary\u001b[0m \u001b[0;34m(\u001b[0m\u001b[0;34m{\u001b[0m\u001b[0mlibname\u001b[0m\u001b[0;34m}\u001b[0m\u001b[0;34m)\u001b[0m \u001b[0mcould\u001b[0m \u001b[0;32mnot\u001b[0m \u001b[0mbe\u001b[0m \u001b[0mloaded\u001b[0m\u001b[0;34m.\u001b[0m\u001b[0;34m\u001b[0m\u001b[0;34m\u001b[0m\u001b[0m\n",
      "\u001b[0;31mXGBoostError\u001b[0m: \nXGBoost Library (libxgboost.dylib) could not be loaded.\nLikely causes:\n  * OpenMP runtime is not installed\n    - vcomp140.dll or libgomp-1.dll for Windows\n    - libomp.dylib for Mac OSX\n    - libgomp.so for Linux and other UNIX-like OSes\n    Mac OSX users: Run `brew install libomp` to install OpenMP runtime.\n\n  * You are running 32-bit Python on a 64-bit OS\n\nError message(s): ['dlopen(/Users/jenspt/opt/anaconda3/lib/python3.9/site-packages/xgboost/lib/libxgboost.dylib, 6): Library not loaded: /usr/local/opt/libomp/lib/libomp.dylib\\n  Referenced from: /Users/jenspt/opt/anaconda3/lib/python3.9/site-packages/xgboost/lib/libxgboost.dylib\\n  Reason: image not found']\n"
     ]
    }
   ],
   "source": [
    "from xgboost import XGBClassifier\n",
    "from sklearn.model_selection import RandomizedSearchCV\n",
    "from numpy.random import randint, uniform\n",
    "\n",
    "param_distributions = {\n",
    "    'min_child_weight': randint(1, 10),\n",
    "    'colsample_bytree': uniform(0.1, 0.9),\n",
    "    'reg_aplha': uniform(0.001, 100),\n",
    "    'subsample': uniform(0.1, 0.9),\n",
    "    'max_depth': randint(1, 10),\n",
    "    'gamma': uniform(0.5, 5),\n",
    "    'eta': uniform(0.01, 0.5)\n",
    "}\n",
    "grid = RandomizedSearchCV(\n",
    "    estimator=XGBClassifier(),\n",
    "    param_distributions=param_distributions,\n",
    "    n_iter=10, cv=5, iid=True,\n",
    "    return_train_score=True\n",
    ")\n",
    "model_clf = grid.fit(train_tfidf, y_train).best_estimator_"
   ]
  },
  {
   "cell_type": "code",
   "execution_count": null,
   "id": "2ffbb61b",
   "metadata": {},
   "outputs": [],
   "source": []
  }
 ],
 "metadata": {
  "kernelspec": {
   "display_name": "Python 3 (ipykernel)",
   "language": "python",
   "name": "python3"
  },
  "language_info": {
   "codemirror_mode": {
    "name": "ipython",
    "version": 3
   },
   "file_extension": ".py",
   "mimetype": "text/x-python",
   "name": "python",
   "nbconvert_exporter": "python",
   "pygments_lexer": "ipython3",
   "version": "3.9.7"
  }
 },
 "nbformat": 4,
 "nbformat_minor": 5
}
